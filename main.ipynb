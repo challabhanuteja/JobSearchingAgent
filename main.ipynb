{
 "cells": [
  {
   "cell_type": "code",
   "execution_count": 2,
   "metadata": {},
   "outputs": [
    {
     "name": "stdout",
     "output_type": "stream",
     "text": [
      "Enter your skills                              :c,c++\n",
      "Enter the cities you want to work                 :vij\n",
      "Enter your work experince                     :0\n",
      "Enter your expexted salary                 :1000\n",
      "Enter the desired industry where you want to work :cse\n",
      "Enter job category                                :developer\n"
     ]
    }
   ],
   "source": [
    "skills=input(\"Enter your skills:\")\n",
    "loc=input(\"Enter the cities you want to work:\")\n",
    "exp=int(input(\"Enter your work experince:\"))\n",
    "sal=float(input(\"Enter your expexted salary:\"))\n",
    "ind=input(\"Enter the desired industry where you want to work:\")\n",
    "cat=input(\"Enter job category:\")"
   ]
  },
  {
   "cell_type": "code",
   "execution_count": null,
   "metadata": {},
   "outputs": [],
   "source": []
  }
 ],
 "metadata": {
  "kernelspec": {
   "display_name": "Python 3",
   "language": "python",
   "name": "python3"
  },
  "language_info": {
   "codemirror_mode": {
    "name": "ipython",
    "version": 3
   },
   "file_extension": ".py",
   "mimetype": "text/x-python",
   "name": "python",
   "nbconvert_exporter": "python",
   "pygments_lexer": "ipython3",
   "version": "3.7.0"
  }
 },
 "nbformat": 4,
 "nbformat_minor": 2
}
